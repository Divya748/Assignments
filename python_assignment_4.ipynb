{
 "cells": [
  {
   "cell_type": "markdown",
   "metadata": {},
   "source": [
    "#### 1.1 Write a Python Program(with class concepts) to find the area of the triangle using the below formula.\n",
    "#### area = (s*(s-a)*(s-b)*(s-c)) ** 0.5\n",
    "#### Function to take the length of the sides of triangle from user should be defined in the parentclass and function to calculate the area should be defined in subclass."
   ]
  },
  {
   "cell_type": "code",
   "execution_count": 16,
   "metadata": {},
   "outputs": [
    {
     "name": "stdout",
     "output_type": "stream",
     "text": [
      "a=5.9\n",
      "b=4.3\n",
      "c=3.9\n",
      "area of a triangle is: 35.115609374999984\n"
     ]
    }
   ],
   "source": [
    "class params:\n",
    "    def __init__(self,a,b,c):\n",
    "        self.a=a\n",
    "        self.b=b\n",
    "        self.c=c\n",
    "a,b,c=float(input(\"a=\")),float(input(\"b=\")),float(input(\"c=\"))\n",
    "class area_triangle(params):\n",
    "    def calculate_area(self):\n",
    "        s=(a+b+c)/2\n",
    "        self.area=(s*(s-a)*(s-b)*(s-c)) * 0.5\n",
    "    def get_area(self):\n",
    "        return self.area\n",
    "t=area_triangle(a,b,c)\n",
    "t.calculate_area()\n",
    "print(\"area of a triangle is: {}\".format(t.get_area()))"
   ]
  },
  {
   "cell_type": "markdown",
   "metadata": {},
   "source": [
    "##### 1.2 Write a function filter_long_words() that takes a list of words and an integer n and returns the list of words that are longer than n"
   ]
  },
  {
   "cell_type": "code",
   "execution_count": 31,
   "metadata": {},
   "outputs": [
    {
     "name": "stdout",
     "output_type": "stream",
     "text": [
      "['xyz', 'fhjdk']\n"
     ]
    }
   ],
   "source": [
    "def filter_long_words(a,n):\n",
    "    words=[]\n",
    "    for i in a:\n",
    "        x=len(i)\n",
    "        if x>n:\n",
    "            words.append(i)\n",
    "    return words\n",
    "a=[\"a\",\"bc\",\"xyz\",\"fhjdk\"]\n",
    "result=filter_long_words(a,2)\n",
    "print(result)"
   ]
  },
  {
   "cell_type": "markdown",
   "metadata": {},
   "source": [
    "##### 2.1 Write a Python program using function concept that maps list of words into a list of integers representing the lengths of the corresponding words .\n",
    "    Hint: If a list [ ab,cde,erty] is passed on to the python function output should come as [2,3,4]\n",
    "    Here 2,3 and 4 are the lengths of the words in the list."
   ]
  },
  {
   "cell_type": "code",
   "execution_count": 1,
   "metadata": {},
   "outputs": [
    {
     "name": "stdout",
     "output_type": "stream",
     "text": [
      "[1, 2, 3, 5]\n"
     ]
    }
   ],
   "source": [
    "def long_words(a,n):\n",
    "    words_length=[]\n",
    "    for i in a:\n",
    "        x=len(i)\n",
    "        words_length.append(x)\n",
    "    return words_length\n",
    "a=[\"a\",\"bc\",\"xyz\",\"fhjdk\"]\n",
    "result=long_words(a,2)\n",
    "print(result)"
   ]
  },
  {
   "cell_type": "markdown",
   "metadata": {},
   "source": [
    "##### 2.2 Write a Python function which takes a character (i.e. a string of length 1) and returns True if it is a vowel, False otherwise."
   ]
  },
  {
   "cell_type": "code",
   "execution_count": null,
   "metadata": {},
   "outputs": [],
   "source": [
    "def check_vowel(char):\n",
    "    vowel_list=['a','e','i','o','u','A','E','I','O','U']\n",
    "    if char in vowel_list and len(char)==1:\n",
    "        return True\n",
    "    else:\n",
    "        return False\n",
    "char=input(\"enter a charecter\")\n",
    "result=check_vowel(char)\n",
    "print(result)"
   ]
  },
  {
   "cell_type": "code",
   "execution_count": null,
   "metadata": {},
   "outputs": [],
   "source": []
  },
  {
   "cell_type": "code",
   "execution_count": null,
   "metadata": {},
   "outputs": [],
   "source": []
  }
 ],
 "metadata": {
  "kernelspec": {
   "display_name": "Python 3",
   "language": "python",
   "name": "python3"
  },
  "language_info": {
   "codemirror_mode": {
    "name": "ipython",
    "version": 3
   },
   "file_extension": ".py",
   "mimetype": "text/x-python",
   "name": "python",
   "nbconvert_exporter": "python",
   "pygments_lexer": "ipython3",
   "version": "3.7.6"
  }
 },
 "nbformat": 4,
 "nbformat_minor": 4
}
